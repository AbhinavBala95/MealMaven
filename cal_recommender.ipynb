{
  "nbformat": 4,
  "nbformat_minor": 0,
  "metadata": {
    "colab": {
      "provenance": []
    },
    "kernelspec": {
      "name": "python3",
      "display_name": "Python 3"
    },
    "language_info": {
      "name": "python"
    }
  },
  "cells": [
    {
      "cell_type": "code",
      "source": [
        "!pip install langchain-fireworks\n",
        "import warnings\n",
        "import openai\n",
        "import json\n",
        "from langchain_fireworks import Fireworks\n",
        "\n",
        "\n",
        "# Ignore all warnings\n",
        "warnings.filterwarnings(\"ignore\")"
      ],
      "metadata": {
        "colab": {
          "base_uri": "https://localhost:8080/"
        },
        "id": "My8BBmgBaX0d",
        "outputId": "e405ea86-8989-4f61-b5b0-36a1d3fc7ed4"
      },
      "execution_count": null,
      "outputs": [
        {
          "output_type": "stream",
          "name": "stdout",
          "text": [
            "Requirement already satisfied: langchain-fireworks in /usr/local/lib/python3.10/dist-packages (0.1.7)\n",
            "Requirement already satisfied: aiohttp<4.0.0,>=3.9.1 in /usr/local/lib/python3.10/dist-packages (from langchain-fireworks) (3.10.1)\n",
            "Requirement already satisfied: fireworks-ai>=0.13.0 in /usr/local/lib/python3.10/dist-packages (from langchain-fireworks) (0.15.0)\n",
            "Requirement already satisfied: langchain-core<0.3.0,>=0.2.26 in /usr/local/lib/python3.10/dist-packages (from langchain-fireworks) (0.2.29)\n",
            "Requirement already satisfied: openai<2.0.0,>=1.10.0 in /usr/local/lib/python3.10/dist-packages (from langchain-fireworks) (1.40.3)\n",
            "Requirement already satisfied: requests<3,>=2 in /usr/local/lib/python3.10/dist-packages (from langchain-fireworks) (2.32.3)\n",
            "Requirement already satisfied: aiohappyeyeballs>=2.3.0 in /usr/local/lib/python3.10/dist-packages (from aiohttp<4.0.0,>=3.9.1->langchain-fireworks) (2.3.4)\n",
            "Requirement already satisfied: aiosignal>=1.1.2 in /usr/local/lib/python3.10/dist-packages (from aiohttp<4.0.0,>=3.9.1->langchain-fireworks) (1.3.1)\n",
            "Requirement already satisfied: attrs>=17.3.0 in /usr/local/lib/python3.10/dist-packages (from aiohttp<4.0.0,>=3.9.1->langchain-fireworks) (24.2.0)\n",
            "Requirement already satisfied: frozenlist>=1.1.1 in /usr/local/lib/python3.10/dist-packages (from aiohttp<4.0.0,>=3.9.1->langchain-fireworks) (1.4.1)\n",
            "Requirement already satisfied: multidict<7.0,>=4.5 in /usr/local/lib/python3.10/dist-packages (from aiohttp<4.0.0,>=3.9.1->langchain-fireworks) (6.0.5)\n",
            "Requirement already satisfied: yarl<2.0,>=1.0 in /usr/local/lib/python3.10/dist-packages (from aiohttp<4.0.0,>=3.9.1->langchain-fireworks) (1.9.4)\n",
            "Requirement already satisfied: async-timeout<5.0,>=4.0 in /usr/local/lib/python3.10/dist-packages (from aiohttp<4.0.0,>=3.9.1->langchain-fireworks) (4.0.3)\n",
            "Requirement already satisfied: httpx in /usr/local/lib/python3.10/dist-packages (from fireworks-ai>=0.13.0->langchain-fireworks) (0.27.0)\n",
            "Requirement already satisfied: httpx-sse in /usr/local/lib/python3.10/dist-packages (from fireworks-ai>=0.13.0->langchain-fireworks) (0.4.0)\n",
            "Requirement already satisfied: pydantic in /usr/local/lib/python3.10/dist-packages (from fireworks-ai>=0.13.0->langchain-fireworks) (2.8.2)\n",
            "Requirement already satisfied: Pillow in /usr/local/lib/python3.10/dist-packages (from fireworks-ai>=0.13.0->langchain-fireworks) (9.4.0)\n",
            "Requirement already satisfied: PyYAML>=5.3 in /usr/local/lib/python3.10/dist-packages (from langchain-core<0.3.0,>=0.2.26->langchain-fireworks) (6.0.2)\n",
            "Requirement already satisfied: jsonpatch<2.0,>=1.33 in /usr/local/lib/python3.10/dist-packages (from langchain-core<0.3.0,>=0.2.26->langchain-fireworks) (1.33)\n",
            "Requirement already satisfied: langsmith<0.2.0,>=0.1.75 in /usr/local/lib/python3.10/dist-packages (from langchain-core<0.3.0,>=0.2.26->langchain-fireworks) (0.1.99)\n",
            "Requirement already satisfied: packaging<25,>=23.2 in /usr/local/lib/python3.10/dist-packages (from langchain-core<0.3.0,>=0.2.26->langchain-fireworks) (24.1)\n",
            "Requirement already satisfied: tenacity!=8.4.0,<9.0.0,>=8.1.0 in /usr/local/lib/python3.10/dist-packages (from langchain-core<0.3.0,>=0.2.26->langchain-fireworks) (8.5.0)\n",
            "Requirement already satisfied: typing-extensions>=4.7 in /usr/local/lib/python3.10/dist-packages (from langchain-core<0.3.0,>=0.2.26->langchain-fireworks) (4.12.2)\n",
            "Requirement already satisfied: anyio<5,>=3.5.0 in /usr/local/lib/python3.10/dist-packages (from openai<2.0.0,>=1.10.0->langchain-fireworks) (3.7.1)\n",
            "Requirement already satisfied: distro<2,>=1.7.0 in /usr/lib/python3/dist-packages (from openai<2.0.0,>=1.10.0->langchain-fireworks) (1.7.0)\n",
            "Requirement already satisfied: jiter<1,>=0.4.0 in /usr/local/lib/python3.10/dist-packages (from openai<2.0.0,>=1.10.0->langchain-fireworks) (0.5.0)\n",
            "Requirement already satisfied: sniffio in /usr/local/lib/python3.10/dist-packages (from openai<2.0.0,>=1.10.0->langchain-fireworks) (1.3.1)\n",
            "Requirement already satisfied: tqdm>4 in /usr/local/lib/python3.10/dist-packages (from openai<2.0.0,>=1.10.0->langchain-fireworks) (4.66.5)\n",
            "Requirement already satisfied: charset-normalizer<4,>=2 in /usr/local/lib/python3.10/dist-packages (from requests<3,>=2->langchain-fireworks) (3.3.2)\n",
            "Requirement already satisfied: idna<4,>=2.5 in /usr/local/lib/python3.10/dist-packages (from requests<3,>=2->langchain-fireworks) (3.7)\n",
            "Requirement already satisfied: urllib3<3,>=1.21.1 in /usr/local/lib/python3.10/dist-packages (from requests<3,>=2->langchain-fireworks) (2.0.7)\n",
            "Requirement already satisfied: certifi>=2017.4.17 in /usr/local/lib/python3.10/dist-packages (from requests<3,>=2->langchain-fireworks) (2024.7.4)\n",
            "Requirement already satisfied: exceptiongroup in /usr/local/lib/python3.10/dist-packages (from anyio<5,>=3.5.0->openai<2.0.0,>=1.10.0->langchain-fireworks) (1.2.2)\n",
            "Requirement already satisfied: httpcore==1.* in /usr/local/lib/python3.10/dist-packages (from httpx->fireworks-ai>=0.13.0->langchain-fireworks) (1.0.5)\n",
            "Requirement already satisfied: h11<0.15,>=0.13 in /usr/local/lib/python3.10/dist-packages (from httpcore==1.*->httpx->fireworks-ai>=0.13.0->langchain-fireworks) (0.14.0)\n",
            "Requirement already satisfied: jsonpointer>=1.9 in /usr/local/lib/python3.10/dist-packages (from jsonpatch<2.0,>=1.33->langchain-core<0.3.0,>=0.2.26->langchain-fireworks) (3.0.0)\n",
            "Requirement already satisfied: orjson<4.0.0,>=3.9.14 in /usr/local/lib/python3.10/dist-packages (from langsmith<0.2.0,>=0.1.75->langchain-core<0.3.0,>=0.2.26->langchain-fireworks) (3.10.7)\n",
            "Requirement already satisfied: annotated-types>=0.4.0 in /usr/local/lib/python3.10/dist-packages (from pydantic->fireworks-ai>=0.13.0->langchain-fireworks) (0.7.0)\n",
            "Requirement already satisfied: pydantic-core==2.20.1 in /usr/local/lib/python3.10/dist-packages (from pydantic->fireworks-ai>=0.13.0->langchain-fireworks) (2.20.1)\n"
          ]
        }
      ]
    },
    {
      "cell_type": "code",
      "source": [
        "warnings.filterwarnings(\"ignore\")\n",
        "\n",
        "def get_fireworks_model(model_endpoint: str):\n",
        "  client = openai.OpenAI( base_url = model_endpoint, api_key = \"KnzTWAoO0cfGV2eEBd55mu4Uv2lDTEDAFqvQSS2sAxy1Lldf\")\n",
        "  return client\n",
        "\n",
        "def get_chat_model(model = \"accounts/fireworks/models/llama-v3p1-70b-instruct\", max_tokens=500):\n",
        "  final_answer_llm = Fireworks(\n",
        "    api_key=\"KnzTWAoO0cfGV2eEBd55mu4Uv2lDTEDAFqvQSS2sAxy1Lldf\",\n",
        "    model=model,\n",
        "    max_tokens=max_tokens,\n",
        "    temperature=0\n",
        "    )\n",
        "  return final_answer_llm\n",
        "\n",
        "\n",
        "def generate_chat_completion(client, model, messages, tools=None):\n",
        "  chat_completion = client.chat.completions.create(\n",
        "      model=model,\n",
        "      messages=messages,\n",
        "      tools=tools,\n",
        "      temperature=0\n",
        "  )\n",
        "  return chat_completion\n",
        "\n",
        "def get_tools_def():\n",
        "  tools = [\n",
        "      {\n",
        "          \"type\": \"function\",\n",
        "          \"function\": {\n",
        "              \"name\": \"make_recommendation_after_retrieving_logged\",\n",
        "              \"description\": \"Provide a recommendation after retrieving the list of all items logged by the user on a specific date.\",\n",
        "              \"parameters\": {\n",
        "                  \"type\": \"object\",\n",
        "                  \"properties\": {\n",
        "                      \"date\": {\n",
        "                          \"type\": \"string\",\n",
        "                          \"description\": \"Retrieve the list of all items logged by the user on a given date. The date must be in the MM-DD-YYYY format.\"\n",
        "                      },\n",
        "                      \"user_context\": {\n",
        "                          \"type\": \"object\",\n",
        "                          \"description\": \"Contextual information about the user, such as dietary preferences, goals, or restrictions.\",\n",
        "                          \"properties\": {\n",
        "                              \"dietary_preferences\": {\n",
        "                                  \"type\": \"string\",\n",
        "                                  \"description\": \"User's dietary preferences, e.g., vegan, vegetarian, low-carb.\"\n",
        "                              },\n",
        "                              \"goals\": {\n",
        "                                  \"type\": \"string\",\n",
        "                                  \"description\": \"User's health or fitness goals, e.g., weight loss, muscle gain.\"\n",
        "                              },\n",
        "                              \"restrictions\": {\n",
        "                                  \"type\": \"string\",\n",
        "                                  \"description\": \"Any dietary restrictions the user has, e.g., gluten-free, nut allergy.\"\n",
        "                              }\n",
        "                          }\n",
        "                      },\n",
        "                      \"original_query\": {\n",
        "                          \"type\": \"string\",\n",
        "                          \"description\": \"The original query provided by the user, which will be considered in making the recommendation.\"\n",
        "                      }\n",
        "                  },\n",
        "                  \"required\": [\"date\", \"user_context\", \"original_query\"]\n",
        "              }\n",
        "          }\n",
        "      }\n",
        "  ]\n",
        "  return tools\n",
        "\n",
        "\n",
        "def get_user_calories_target():\n",
        "    return 2,576\n",
        "\n",
        "def get_food_logged_by_date(user, date):\n",
        "  return 100\n",
        "\n",
        "def get_recommendation(query: str):\n",
        "  TOOL_CALLING_MODEL = 'accounts/fireworks/models/firefunction-v2'\n",
        "  LLAMA3_1_8B = \"accounts/fireworks/models/llama-v3p1-8b-instruct\"\n",
        "  client = get_fireworks_model(model_endpoint = 'https://api.fireworks.ai/inference/v1')\n",
        "  tools = get_tools_def()\n",
        "\n",
        "  messages = [\n",
        "      {\"role\": \"system\", \"content\": f\"You are a helpful assistant with access to functions.\"\n",
        "                                    \"Use them if required. You have access to user_context. {dietary_preferences: vegan, goals: weight loss, restrictions: gluten-free}\"},\n",
        "      {\"role\": \"user\", \"content\": query}\n",
        "  ]\n",
        "\n",
        "  result = generate_chat_completion(client, TOOL_CALLING_MODEL, messages, tools)\n",
        "\n",
        "  def make_recommendation_after_retrieving_logged(original_query:str, user_context: dict, date: str):\n",
        "    print(f\"getting log data for {date}\")\n",
        "    calories_consumed = get_food_logged_by_date(\"abc\", date)\n",
        "    calorie_target = get_user_calories_target()\n",
        "\n",
        "    recommendation_prompt = f\"\"\"You are a helpful assistant acting as a nutritionist. The user has a daily calorie target of {calorie_target} and has already consumed {calories_consumed}. Based on this information, respond to the user's query: {original_query}. User the user preference. {user_context} Answer:\"\"\"\n",
        "    print(f\"final prompt: {recommendation_prompt}\")\n",
        "    print(\"\\n\\n\")\n",
        "    LLAMA3_1_70B= \"accounts/fireworks/models/llama-v3p1-70b-instruct\"\n",
        "    final_answer_llm = get_chat_model(LLAMA3_1_70B)\n",
        "    final_result = final_answer_llm(recommendation_prompt)\n",
        "    return final_result\n",
        "\n",
        "  function_call = result.choices[0].message.tool_calls[0].function\n",
        "  tool_response = locals()[function_call.name](**json.loads(function_call.arguments))\n",
        "  return tool_response\n",
        "\n",
        "\n",
        "\n"
      ],
      "metadata": {
        "id": "hX5aI_Dkx_Mf"
      },
      "execution_count": null,
      "outputs": []
    },
    {
      "cell_type": "code",
      "source": [
        "ans = get_recommendation(query=\"recommend me on what should i eat today for lunch?\")\n",
        "print(ans)"
      ],
      "metadata": {
        "colab": {
          "base_uri": "https://localhost:8080/"
        },
        "id": "0_H7OauEG_C1",
        "outputId": "295fb415-f7d1-4e45-a878-ac7861f73361"
      },
      "execution_count": null,
      "outputs": [
        {
          "output_type": "stream",
          "name": "stdout",
          "text": [
            "getting log data for 08-11-2024\n",
            "final prompt: You are a helpful assistant acting as a nutritionist. The user has a daily calorie target of (2, 576) and has already consumed 100. Based on this information, respond to the user's query: recommend me on what should i eat today for lunch. User the user preference. {'dietary_preferences': 'vegan', 'goals': 'weight loss', 'restrictions': 'gluten-free'} Answer:\n",
            "\n",
            "\n",
            "\n",
            " Based on your daily calorie target and the fact that you've already consumed 100 calories, I'd be happy to recommend a healthy and delicious vegan lunch option that's gluten-free and supports your weight loss goals. Considering your preferences, here's a suggestion: Grilled Vegetable Wrap (approx. 400 calories) Ingredients: 1 whole wheat gluten-free wrap 1/2 cup cooked black beans 1/2 cup roasted bell peppers 1/2 cup sliced cucumber 1/4 cup sliced avocado 1 tablespoon hummus 1 tablespoon chopped fresh cilantro Salt and pepper to taste This wrap is not only vegan and gluten-free but also packed with protein, fiber, and healthy fats to keep you full and satisfied. The black beans provide a good source of plant-based protein, while the avocado adds creaminess without adding excess calories. You can also customize this wrap to your liking by adding other veggies like spinach, carrots, or sprouts. To stay within your calorie target, be mindful of your portion sizes and balance this meal with a light snack or a healthy dinner. How does this sound? Would you like me to suggest any variations or alternatives?\n"
          ]
        }
      ]
    },
    {
      "cell_type": "markdown",
      "source": [
        "# create a diet and fitness plan"
      ],
      "metadata": {
        "id": "8iu_12jcvFBR"
      }
    },
    {
      "cell_type": "code",
      "source": [
        "!pip install langchain"
      ],
      "metadata": {
        "colab": {
          "base_uri": "https://localhost:8080/"
        },
        "id": "MaBfrKWQsGl9",
        "outputId": "d9470b35-db2c-485c-b96b-83d4799f35b2"
      },
      "execution_count": null,
      "outputs": [
        {
          "output_type": "stream",
          "name": "stdout",
          "text": [
            "Collecting langchain\n",
            "  Downloading langchain-0.2.12-py3-none-any.whl.metadata (7.1 kB)\n",
            "Requirement already satisfied: PyYAML>=5.3 in /usr/local/lib/python3.10/dist-packages (from langchain) (6.0.2)\n",
            "Requirement already satisfied: SQLAlchemy<3,>=1.4 in /usr/local/lib/python3.10/dist-packages (from langchain) (2.0.32)\n",
            "Requirement already satisfied: aiohttp<4.0.0,>=3.8.3 in /usr/local/lib/python3.10/dist-packages (from langchain) (3.10.1)\n",
            "Requirement already satisfied: async-timeout<5.0.0,>=4.0.0 in /usr/local/lib/python3.10/dist-packages (from langchain) (4.0.3)\n",
            "Requirement already satisfied: langchain-core<0.3.0,>=0.2.27 in /usr/local/lib/python3.10/dist-packages (from langchain) (0.2.29)\n",
            "Collecting langchain-text-splitters<0.3.0,>=0.2.0 (from langchain)\n",
            "  Downloading langchain_text_splitters-0.2.2-py3-none-any.whl.metadata (2.1 kB)\n",
            "Requirement already satisfied: langsmith<0.2.0,>=0.1.17 in /usr/local/lib/python3.10/dist-packages (from langchain) (0.1.99)\n",
            "Requirement already satisfied: numpy<2,>=1 in /usr/local/lib/python3.10/dist-packages (from langchain) (1.26.4)\n",
            "Requirement already satisfied: pydantic<3,>=1 in /usr/local/lib/python3.10/dist-packages (from langchain) (2.8.2)\n",
            "Requirement already satisfied: requests<3,>=2 in /usr/local/lib/python3.10/dist-packages (from langchain) (2.32.3)\n",
            "Requirement already satisfied: tenacity!=8.4.0,<9.0.0,>=8.1.0 in /usr/local/lib/python3.10/dist-packages (from langchain) (8.5.0)\n",
            "Requirement already satisfied: aiohappyeyeballs>=2.3.0 in /usr/local/lib/python3.10/dist-packages (from aiohttp<4.0.0,>=3.8.3->langchain) (2.3.4)\n",
            "Requirement already satisfied: aiosignal>=1.1.2 in /usr/local/lib/python3.10/dist-packages (from aiohttp<4.0.0,>=3.8.3->langchain) (1.3.1)\n",
            "Requirement already satisfied: attrs>=17.3.0 in /usr/local/lib/python3.10/dist-packages (from aiohttp<4.0.0,>=3.8.3->langchain) (24.2.0)\n",
            "Requirement already satisfied: frozenlist>=1.1.1 in /usr/local/lib/python3.10/dist-packages (from aiohttp<4.0.0,>=3.8.3->langchain) (1.4.1)\n",
            "Requirement already satisfied: multidict<7.0,>=4.5 in /usr/local/lib/python3.10/dist-packages (from aiohttp<4.0.0,>=3.8.3->langchain) (6.0.5)\n",
            "Requirement already satisfied: yarl<2.0,>=1.0 in /usr/local/lib/python3.10/dist-packages (from aiohttp<4.0.0,>=3.8.3->langchain) (1.9.4)\n",
            "Requirement already satisfied: jsonpatch<2.0,>=1.33 in /usr/local/lib/python3.10/dist-packages (from langchain-core<0.3.0,>=0.2.27->langchain) (1.33)\n",
            "Requirement already satisfied: packaging<25,>=23.2 in /usr/local/lib/python3.10/dist-packages (from langchain-core<0.3.0,>=0.2.27->langchain) (24.1)\n",
            "Requirement already satisfied: typing-extensions>=4.7 in /usr/local/lib/python3.10/dist-packages (from langchain-core<0.3.0,>=0.2.27->langchain) (4.12.2)\n",
            "Requirement already satisfied: orjson<4.0.0,>=3.9.14 in /usr/local/lib/python3.10/dist-packages (from langsmith<0.2.0,>=0.1.17->langchain) (3.10.7)\n",
            "Requirement already satisfied: annotated-types>=0.4.0 in /usr/local/lib/python3.10/dist-packages (from pydantic<3,>=1->langchain) (0.7.0)\n",
            "Requirement already satisfied: pydantic-core==2.20.1 in /usr/local/lib/python3.10/dist-packages (from pydantic<3,>=1->langchain) (2.20.1)\n",
            "Requirement already satisfied: charset-normalizer<4,>=2 in /usr/local/lib/python3.10/dist-packages (from requests<3,>=2->langchain) (3.3.2)\n",
            "Requirement already satisfied: idna<4,>=2.5 in /usr/local/lib/python3.10/dist-packages (from requests<3,>=2->langchain) (3.7)\n",
            "Requirement already satisfied: urllib3<3,>=1.21.1 in /usr/local/lib/python3.10/dist-packages (from requests<3,>=2->langchain) (2.0.7)\n",
            "Requirement already satisfied: certifi>=2017.4.17 in /usr/local/lib/python3.10/dist-packages (from requests<3,>=2->langchain) (2024.7.4)\n",
            "Requirement already satisfied: greenlet!=0.4.17 in /usr/local/lib/python3.10/dist-packages (from SQLAlchemy<3,>=1.4->langchain) (3.0.3)\n",
            "Requirement already satisfied: jsonpointer>=1.9 in /usr/local/lib/python3.10/dist-packages (from jsonpatch<2.0,>=1.33->langchain-core<0.3.0,>=0.2.27->langchain) (3.0.0)\n",
            "Downloading langchain-0.2.12-py3-none-any.whl (990 kB)\n",
            "\u001b[2K   \u001b[90m━━━━━━━━━━━━━━━━━━━━━━━━━━━━━━━━━━━━━━━━\u001b[0m \u001b[32m990.6/990.6 kB\u001b[0m \u001b[31m31.9 MB/s\u001b[0m eta \u001b[36m0:00:00\u001b[0m\n",
            "\u001b[?25hDownloading langchain_text_splitters-0.2.2-py3-none-any.whl (25 kB)\n",
            "Installing collected packages: langchain-text-splitters, langchain\n",
            "Successfully installed langchain-0.2.12 langchain-text-splitters-0.2.2\n"
          ]
        }
      ]
    },
    {
      "cell_type": "code",
      "source": [
        "\n",
        "def gen_user_plan(user_context):\n",
        "  prompt= \"\"\"\n",
        "  <|begin_of_text|><|start_header_id|>system<|end_header_id|>\n",
        "  You are a helpful fitness assistant. Your task is to create a comprehensive nutrition and workout plan based on the following user profile in JSON schema:\n",
        "\n",
        "  Use the following user profile in json schema.\n",
        "  {user_context}\n",
        "\n",
        "  Nutrition Plan:\n",
        "\n",
        "  Daily Caloric Intake: [Calculate based on goals and preferences]\n",
        "  Macronutrient Distribution: [Suggested percentages for protein, carbs, and fats]\n",
        "  Hydration: [Recommended daily water intake]\n",
        "\n",
        "  Workout Plan:\n",
        "  Frequency: [Number of days per week]\n",
        "  Types of Exercises: [Include a mix of cardio, strength training, and flexibility exercises suitable for weight loss]\n",
        "  Additional Tips: [Include any additional tips or recommendations for maximizing results]\n",
        "  Ensure the plan is tailored to the individual’s specific needs and preferences.\n",
        "\n",
        "\n",
        "  <|start_header_id|>user<|end_header_id|>\n",
        "  Generate comprehensive nutrition, workout plan.<|eot_id|><|start_header_id|>assistant<|end_header_id|>\n",
        "\n",
        "\n",
        "  \"\"\"\n",
        "  plan_llm = get_chat_model(\"accounts/fireworks/models/llama-v3p1-70b-instruct\", 2000)\n",
        "  if not user_context:\n",
        "    user_context = {\n",
        "        \"username\": \"\",\n",
        "        \"email\": \"abcdef@gmail.com\",\n",
        "        \"gender\": \"Male\",\n",
        "        \"age\": 25,\n",
        "        \"height\": 170,\n",
        "        \"weight\": 70,\n",
        "        \"fitness_goal\": \"Weight Loss\",\n",
        "        \"fitness_timeline\": 6,\n",
        "        \"fitness_range\": \"5% change\",\n",
        "        \"timestamp\": \"2024-08-11T15:17:19.057813\",\n",
        "        \"dietary_preferences\": \"vegan\",\n",
        "        \"restrictions\": \"gluten-free\"\n",
        "\n",
        "    }\n",
        "  final_str = prompt.format(user_context=user_context)\n",
        "  plan_res = plan_llm(final_str)\n",
        "  return plan_res"
      ],
      "metadata": {
        "id": "J5EEsIp2hM76"
      },
      "execution_count": null,
      "outputs": []
    },
    {
      "cell_type": "code",
      "source": [
        "from IPython.display import Markdown, display\n",
        "user_context = {\n",
        "        \"username\": \"\",\n",
        "        \"email\": \"abcdef@gmail.com\",\n",
        "        \"gender\": \"Male\",\n",
        "        \"age\": 25,\n",
        "        \"height\": 170,\n",
        "        \"weight\": 70,\n",
        "        \"fitness_goal\": \"Weight Loss\",\n",
        "        \"fitness_timeline\": 6,\n",
        "        \"fitness_range\": \"5% change\",\n",
        "        \"timestamp\": \"2024-08-11T15:17:19.057813\",\n",
        "        \"dietary_preferences\": \"vegan\",\n",
        "        \"restrictions\": \"gluten-free\"\n",
        "\n",
        "    }\n",
        "plan_res_1 = gen_user_plan(user_context)\n",
        "display(Markdown(plan_res_1))"
      ],
      "metadata": {
        "colab": {
          "base_uri": "https://localhost:8080/",
          "height": 1000
        },
        "id": "tdrZly2_tajj",
        "outputId": "d6ff76ab-e8ac-426f-f560-f0c5790d9223"
      },
      "execution_count": null,
      "outputs": [
        {
          "output_type": "display_data",
          "data": {
            "text/plain": [
              "<IPython.core.display.Markdown object>"
            ],
            "text/markdown": " **Comprehensive Nutrition and Workout Plan**\n\n**User Profile:**\n\n*   Username: \n*   Email: abcdef@gmail.com\n*   Gender: Male\n*   Age: 25\n*   Height: 170 cm\n*   Weight: 70 kg\n*   Fitness Goal: Weight Loss\n*   Fitness Timeline: 6 weeks\n*   Fitness Range: 5% change\n*   Dietary Preferences: Vegan\n*   Restrictions: Gluten-free\n\n**Nutrition Plan:**\n\n1.  **Daily Caloric Intake:**\n    *   To achieve weight loss, a daily caloric deficit of 500 calories is recommended.\n    *   Based on the user's profile, the daily caloric intake is calculated as follows:\n        *   Basal Metabolic Rate (BMR): 1,987 calories (based on age, gender, weight, and height)\n        *   Daily activity level: 1.55 (moderately active)\n        *   Total Daily Energy Expenditure (TDEE): 3,076 calories\n        *   Daily caloric intake for weight loss: 2,576 calories (TDEE - 500 calories)\n2.  **Macronutrient Distribution:**\n    *   Protein: 1.6 grams/kg body weight (112 grams) - 15% of daily calories\n    *   Carbohydrates: 2-3 grams/kg body weight (140-210 grams) - 55% of daily calories\n    *   Fat: 0.5-1 gram/kg body weight (35-70 grams) - 30% of daily calories\n3.  **Hydration:**\n    *   Recommended daily water intake: 3-4 liters\n\n**Workout Plan:**\n\n1.  **Frequency:**\n    *   5 days per week, with 2 rest days\n2.  **Types of Exercises:**\n    *   **Cardio:**\n        *   Brisk walking (30 minutes, 3 times a week)\n        *   Jogging (20 minutes, 2 times a week)\n        *   Swimming (20 minutes, 2 times a week)\n    *   **Strength Training:**\n        *   Squats (3 sets of 12 reps, 2 times a week)\n        *   Lunges (3 sets of 12 reps, 2 times a week)\n        *   Push-ups (3 sets of 12 reps, 2 times a week)\n        *   Chest press (3 sets of 12 reps, 2 times a week)\n        *   Lat pulldowns (3 sets of 12 reps, 2 times a week)\n        *   Leg press (3 sets of 12 reps, 2 times a week)\n    *   **Flexibility Exercises:**\n        *   Yoga (30 minutes, 2 times a week)\n        *   Stretching exercises (10-15 minutes, 3 times a week)\n3.  **Additional Tips:**\n    *   Warm up before each workout with 5-10 minutes of light cardio and stretching.\n    *   Cool down after each workout with 5-10 minutes of stretching.\n    *   Incorporate progressive overload by increasing the weight or resistance used in strength training exercises every two weeks.\n    *   Listen to your body and rest when needed.\n    *   Monitor progress through regular weight checks, body fat percentage measurements, and progress photos.\n\n**Additional Recommendations:**\n\n*   Consult with a healthcare professional or a registered dietitian to ensure the nutrition plan meets individual needs and preferences.\n*   Incorporate mindfulness and stress-reducing techniques, such as meditation or deep breathing exercises, to support overall well-being.\n*   Get enough sleep (7-9 hours) each night to aid in weight loss and muscle recovery.\n\nBy following this comprehensive nutrition and workout plan, the user can achieve their weight loss goal of 5% change in 6 weeks while maintaining a balanced and healthy lifestyle."
          },
          "metadata": {}
        }
      ]
    },
    {
      "cell_type": "code",
      "source": [],
      "metadata": {
        "id": "gFfcGx6_wZYX"
      },
      "execution_count": null,
      "outputs": []
    }
  ]
}